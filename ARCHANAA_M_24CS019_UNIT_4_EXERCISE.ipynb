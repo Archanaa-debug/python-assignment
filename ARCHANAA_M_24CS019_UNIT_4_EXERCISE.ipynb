{
  "cells": [
    {
      "cell_type": "markdown",
      "metadata": {
        "id": "view-in-github",
        "colab_type": "text"
      },
      "source": [
        "<a href=\"https://colab.research.google.com/github/Archanaa-debug/python-assignment/blob/main/ARCHANAA_M_24CS019_UNIT_4_EXERCISE.ipynb\" target=\"_parent\"><img src=\"https://colab.research.google.com/assets/colab-badge.svg\" alt=\"Open In Colab\"/></a>"
      ]
    },
    {
      "cell_type": "markdown",
      "id": "7cd72173",
      "metadata": {
        "id": "7cd72173"
      },
      "source": [
        "## Exception Handling\n",
        "### Program 1\n",
        "\n",
        "Python Program should get the Name, Age, 6 Subjects marks as an input from the user. Then generate the dictionary as below\n",
        "\n",
        "![image.png](attachment:0bf221ca-a50c-4b40-bd38-efa9649e14e6.png)\n",
        "\n",
        "Before generating a dictionary, you need to check whether the entered age value is positive or not. If it is negative, we **should NOT** add the details to the dictionary.\n",
        "\n",
        "Use User-Defined Exception Handling"
      ]
    },
    {
      "cell_type": "code",
      "execution_count": 1,
      "id": "45918645",
      "metadata": {
        "colab": {
          "base_uri": "https://localhost:8080/"
        },
        "id": "45918645",
        "outputId": "a4320807-b1e6-41ac-e34d-9d7234a1e113"
      },
      "outputs": [
        {
          "output_type": "stream",
          "name": "stdout",
          "text": [
            "Enter the name of the student:Vishnu\n",
            "Enter the age of the student:23\n",
            "Enter mark1:89\n",
            "Enter mark2:78\n",
            "Enter mark3:77\n",
            "Enter mark4:65\n",
            "Enter mark5:56\n",
            "Enter mark6:98\n",
            "{'NAME': 'Vishnu', 'AGE': 23, 'MARKS': [89, 78, 77, 65, 56, 98], 'TOTAL': 463, 'AVERAGE': 77.167}\n"
          ]
        }
      ],
      "source": [
        "class NegativeValueError(Exception):\n",
        "    pass\n",
        "name=input(\"Enter the name of the student:\")\n",
        "age=int(input(\"Enter the age of the student:\"))\n",
        "if age<0:\n",
        "    raise NegativeValueError(\"Age should not be negative!Enter valid age.\")\n",
        "marks=[]\n",
        "for i in range(6):\n",
        "    mark=int(input(f\"Enter mark{i+1}:\"))\n",
        "    if mark<0:\n",
        "        raise  NegativeValueError(\"Marks should not be negative!\")\n",
        "    marks.append(mark)\n",
        "total_mark=sum(marks)\n",
        "average_mark=total_mark/6\n",
        "student={\"NAME\":name,\"AGE\":age,\"MARKS\":marks,\"TOTAL\":total_mark,\"AVERAGE\":round(average_mark,3)}\n",
        "print(student)"
      ]
    },
    {
      "cell_type": "markdown",
      "id": "1f2672e3",
      "metadata": {
        "id": "1f2672e3"
      },
      "source": [
        "### Program 2\n",
        "\n",
        "Python Program should read the Name, Roll Number and the 6 Subject marks.\n",
        "\n",
        "While entering the marks if we have entering the marks greater than 100 or less than 0 then it should throw an error (**User generated Exception**).\n",
        "\n",
        "For calculating the total,average, minimum and maximum use function\n",
        "\n",
        "![image-3.png](attachment:image-3.png)\n",
        "\n",
        "**Sample Output**\n",
        "\n",
        "![image.png](attachment:image.png)"
      ]
    },
    {
      "cell_type": "code",
      "execution_count": 4,
      "id": "96e85a32",
      "metadata": {
        "colab": {
          "base_uri": "https://localhost:8080/"
        },
        "id": "96e85a32",
        "outputId": "b9d97e18-9594-4aa9-b136-3504b88de3f3"
      },
      "outputs": [
        {
          "output_type": "stream",
          "name": "stdout",
          "text": [
            "Enter the Student Name: Hari\n",
            "Enter the Roll Number: 150\n",
            "Enter the 6 subject marks\n",
            "Enter Subject 1 Marks: 78\n",
            "Enter Subject 2 Marks: 87\n",
            "Enter Subject 3 Marks: 56\n",
            "Enter Subject 4 Marks: 50\n",
            "Enter Subject 5 Marks: 56\n",
            "Enter Subject 6 Marks: 8\n",
            "\n",
            "Student Report\n",
            "Name: Hari\n",
            "Roll Number: 150\n",
            "Marks: [78, 87, 56, 50, 56, 8]\n",
            "Total: 335\n",
            "Average: 55.83\n",
            "Minimum: 8\n",
            "Maximum: 87\n"
          ]
        }
      ],
      "source": [
        "class InvalidMarkError(Exception):\n",
        "    pass\n",
        "def calculate_average_total(marks):\n",
        "    total = sum(marks)\n",
        "    avg = total / len(marks)\n",
        "    min_mark = min(marks)\n",
        "    max_mark = max(marks)\n",
        "    return total, avg, min_mark, max_mark\n",
        "name = input(\"Enter the Student Name: \")\n",
        "roll = input(\"Enter the Roll Number: \")\n",
        "marks = []\n",
        "print(\"Enter the 6 subject marks\")\n",
        "for i in range(6):\n",
        "    mark = int(input(f\"Enter Subject {i+1} Marks: \"))\n",
        "    if mark < 0 or mark > 100:\n",
        "        raise InvalidMarkError(\"Marks should be between 0 and 100 only!\")\n",
        "    marks.append(mark)\n",
        "total, avg, min_mark, max_mark = calculate_average_total(marks)\n",
        "print(\"\\nStudent Report\")\n",
        "print(\"Name:\", name)\n",
        "print(\"Roll Number:\", roll)\n",
        "print(\"Marks:\", marks)\n",
        "print(\"Total:\", total)\n",
        "print(\"Average:\", round(avg, 2))\n",
        "print(\"Minimum:\", min_mark)\n",
        "print(\"Maximum:\", max_mark)"
      ]
    },
    {
      "cell_type": "markdown",
      "id": "163e7555",
      "metadata": {
        "id": "163e7555"
      },
      "source": [
        "Now Handle the above using **Try and Execpt** Block.\n",
        "\n",
        "If all the marks are entered correctly then it should display the Total, Average and his minimum and maximum mark.\n",
        "\n",
        "For calculating the total,average, minimum and maximum use function\n",
        "\n",
        "![image.png](attachment:image.png)\n",
        "\n",
        "#### If the entered mark is invalid then the function should \"0\" if it is valid then function should return total,average,minimum and maximum\n",
        "\n",
        "Use User-Defined Exception\n",
        "\n",
        "In addition to above add one condition when displaying the total,average,minimum and maximum.\n",
        "\n",
        "if he got marks less that 50 then just display \"have failed\", else display the all the detials.\n",
        "\n",
        "Now change the code accordingly and display the output as below\n",
        "\n",
        "#### Sample output 1 - with valid marks\n",
        "\n",
        "![image-2.png](attachment:image-2.png)\n",
        "\n",
        "#### Sample output 1 - with valid marks but he FAILED\n",
        "\n",
        "![image-3.png](attachment:image-3.png)\n",
        "\n",
        "#### Sample output 2 - with invalid marks\n",
        "\n",
        "![image-4.png](attachment:image-4.png)"
      ]
    },
    {
      "cell_type": "code",
      "execution_count": 7,
      "id": "5ea85859",
      "metadata": {
        "colab": {
          "base_uri": "https://localhost:8080/"
        },
        "id": "5ea85859",
        "outputId": "60b0791f-5f14-4a1d-f03c-d63b41dc8643"
      },
      "outputs": [
        {
          "output_type": "stream",
          "name": "stdout",
          "text": [
            "Enter the Student Name: priya\n",
            "Enter the Roll Number: 150\n",
            "Enter the number of subjects: 5\n",
            "Enter Subject 1 Marks: 98\n",
            "Enter Subject 2 Marks: 93\n",
            "Enter Subject 3 Marks: 92\n",
            "Enter Subject 4 Marks: 91\n",
            "Enter Subject 5 Marks: 93\n",
            "\n",
            "Total = 467\n",
            "Average = 93.40\n",
            "Minimum Mark = 91\n",
            "Maximum Mark = 98\n"
          ]
        }
      ],
      "source": [
        "class InvalidMarkError(Exception):\n",
        "    \"\"\"Custom exception raised when an invalid mark is entered.\"\"\"\n",
        "    pass\n",
        "\n",
        "def calculate_average_total(marks):\n",
        "    \"\"\"Calculates the total, average, minimum, and maximum of a list of marks.\"\"\"\n",
        "    if not marks:\n",
        "        return 0, 0, 0, 0\n",
        "\n",
        "    total = sum(marks)\n",
        "    min_mark = min(marks)\n",
        "    max_mark = max(marks)\n",
        "    average = total / len(marks)\n",
        "\n",
        "    return total, average, min_mark, max_mark\n",
        "\n",
        "if __name__ == \"__main__\":\n",
        "    student_name = input(\"Enter the Student Name: \")\n",
        "    roll_number = input(\"Enter the Roll Number: \")\n",
        "\n",
        "    subject_marks = []\n",
        "    num_subjects = int(input(\"Enter the number of subjects: \"))\n",
        "\n",
        "    for i in range(num_subjects):\n",
        "        while True:\n",
        "            try:\n",
        "                mark = int(input(f\"Enter Subject {i+1} Marks: \"))\n",
        "                if not 0 <= mark <= 100:\n",
        "                    raise InvalidMarkError(\"Mark should be between 0 and 100\")\n",
        "                subject_marks.append(mark)\n",
        "                break\n",
        "            except ValueError:\n",
        "                print(\"Invalid input. Please enter an integer.\")\n",
        "            except InvalidMarkError as e:\n",
        "                print(e)\n",
        "\n",
        "    total_marks, average_marks, min_mark, max_mark = calculate_average_total(subject_marks)\n",
        "\n",
        "    print(f\"\\nTotal = {total_marks}\")\n",
        "    print(f\"Average = {average_marks:.2f}\")\n",
        "    print(f\"Minimum Mark = {min_mark}\")\n",
        "    print(f\"Maximum Mark = {max_mark}\")\n",
        "\n",
        "    if average_marks < 50:\n",
        "        print(\"Warning: The student has failed.\")\n",
        "\n"
      ]
    },
    {
      "cell_type": "markdown",
      "id": "82c363e7",
      "metadata": {
        "id": "82c363e7"
      },
      "source": [
        "## FILES\n",
        "\n"
      ]
    },
    {
      "cell_type": "markdown",
      "id": "0cc36dc0",
      "metadata": {
        "id": "0cc36dc0"
      },
      "source": [
        "### PROGRAM 1\n",
        "Write a function in python to count the number of lines from a text file \"proverb.txt\" which is not starting with an alphabet \"D\".\n",
        "\n",
        "**Example:**\n",
        "\n",
        "If the file \"proverb.txt\" contains the following lines:\n",
        "\n",
        "Many hands make light work\n",
        "\n",
        "Honesty is the best policy\n",
        "\n",
        "Don’t bite the hand that feeds you\n",
        "\n",
        "Don’t judge a book by its cover\n",
        "\n",
        "Birds of a feather flock together\n",
        "\n",
        "Diamonds cut diamonds"
      ]
    },
    {
      "cell_type": "code",
      "execution_count": null,
      "id": "3d576d84",
      "metadata": {
        "id": "3d576d84"
      },
      "outputs": [],
      "source": [
        "count = 0\n",
        "with open(\"proverb.txt\", \"r\") as f:\n",
        "    for _ in f:\n",
        "        count += 1\n",
        "print(\"Number of lines =\", count)"
      ]
    },
    {
      "cell_type": "markdown",
      "id": "a2209003",
      "metadata": {
        "id": "a2209003"
      },
      "source": [
        "### Program 2\n",
        "\n",
        "Python Program that display the occurance of a particular character or a string in give input file \"proverb.txt\"\n",
        "\n",
        "If the file **\"proverb.txt\"** contains the following lines:\n",
        "\n",
        "Many hands make light work\n",
        "\n",
        "Honesty is the best policy\n",
        "\n",
        "Don’t bite the hand that feeds you\n",
        "\n",
        "Don’t judge a book by its cover\n",
        "\n",
        "Birds of a feather flock together\n",
        "\n",
        "Diamonds cut diamonds\n",
        "\n",
        "**Sample Output**\n",
        "\n",
        "![image.png](attachment:image.png)"
      ]
    },
    {
      "cell_type": "code",
      "execution_count": null,
      "id": "b4e94195",
      "metadata": {
        "id": "b4e94195"
      },
      "outputs": [],
      "source": [
        "with open(\"proverb.txt\", \"r\") as f:\n",
        "    content = f.read()\n",
        "search_term = input(\"Enter the character or string to be searched: \").strip()\n",
        "occurrences = content.lower().count(search_term.lower())\n",
        "print(f'The character/string \"{search_term}\" has occurred {occurrences} times in the file.')"
      ]
    },
    {
      "cell_type": "markdown",
      "id": "d374c061",
      "metadata": {
        "id": "d374c061"
      },
      "source": [
        "### Program 3\n",
        "\n",
        "Write a python code to append the following proverb to the **\"proverb.txt\"** file.\n",
        "\n",
        "\"Diligence is the mother of good fortune\"\n",
        "\n",
        "##### After updating the file content must be, read the file content and display it.\n",
        "\n",
        "![image.png](attachment:image.png)"
      ]
    },
    {
      "cell_type": "code",
      "execution_count": null,
      "id": "6ff667be",
      "metadata": {
        "id": "6ff667be"
      },
      "outputs": [],
      "source": [
        "with open(\"proverb.txt\", \"a\") as f:\n",
        "    f.write(\"\\nDiligence is the mother of good fortune\")\n",
        "with open(\"proverb.txt\", \"r\") as f:\n",
        "    content = f.read()\n",
        "print(\"Updated file content:\\n\")\n",
        "print(content)"
      ]
    },
    {
      "cell_type": "markdown",
      "id": "a07bf06f",
      "metadata": {
        "id": "a07bf06f"
      },
      "source": [
        "### Program 4\n",
        "\n",
        "Now convert all the character in the file \"proverb.txt\" to uppercase and write to a new file \"u_proverb.txt\" and display the new contents files also\n",
        "\n",
        "![image.png](attachment:image.png)"
      ]
    },
    {
      "cell_type": "code",
      "execution_count": null,
      "id": "ee5e0648",
      "metadata": {
        "id": "ee5e0648"
      },
      "outputs": [],
      "source": [
        "with open(\"proverb.txt\", \"w\") as f:\n",
        "    proverb = input(\"Enter the proverb to be added: \").strip()\n",
        "    f.write(proverb)\n",
        "with open(\"proverb.txt\", \"r\") as f:\n",
        "    content = f.read()\n",
        "print(\"\\nUpdated file content:\")\n",
        "print(content)"
      ]
    }
  ],
  "metadata": {
    "kernelspec": {
      "display_name": "Python 3 (ipykernel)",
      "language": "python",
      "name": "python3"
    },
    "language_info": {
      "codemirror_mode": {
        "name": "ipython",
        "version": 3
      },
      "file_extension": ".py",
      "mimetype": "text/x-python",
      "name": "python",
      "nbconvert_exporter": "python",
      "pygments_lexer": "ipython3",
      "version": "3.12.5"
    },
    "colab": {
      "provenance": [],
      "include_colab_link": true
    }
  },
  "nbformat": 4,
  "nbformat_minor": 5
}
{
 "cells": [
  {
   "cell_type": "markdown",
   "id": "132bbd90",
   "metadata": {},
   "source": [
    "1.Python Program to Get Line Count of a File"
   ]
  },
  {
   "cell_type": "code",
   "execution_count": 7,
   "id": "e0dc0b00",
   "metadata": {},
   "outputs": [
    {
     "name": "stdout",
     "output_type": "stream",
     "text": [
      "Number of lines in the file one.txt= 10\n"
     ]
    }
   ],
   "source": [
    "with open(\"one.txt\",\"r\") as f:\n",
    "    l=f.readlines()\n",
    "    print(\"Number of lines in the file one.txt=\",len(l))\n"
   ]
  },
  {
   "cell_type": "markdown",
   "id": "236a2e9c",
   "metadata": {},
   "source": [
    "2. Python Program to Create a New Text File and Write User Input to It\n",
    "Example: Take a sentence from the user and write it to a file named output.txt."
   ]
  },
  {
   "cell_type": "code",
   "execution_count": 10,
   "id": "49c7e475",
   "metadata": {},
   "outputs": [
    {
     "name": "stdout",
     "output_type": "stream",
     "text": [
      "Your sentence has been successfully written to output.txt\n",
      "The sun rises in the east\n"
     ]
    }
   ],
   "source": [
    "sentence = input(\"Enter a sentence: \")\n",
    "with open(\"output.txt\", \"w\") as file:\n",
    "    file.write(sentence)\n",
    "print(\"Your sentence has been successfully written to output.txt\")\n",
    "with open(\"output.txt\", \"r\") as file:\n",
    "    print(file.read())\n"
   ]
  },
  {
   "cell_type": "markdown",
   "id": "e198b7dc",
   "metadata": {},
   "source": [
    "3.Python Program to Read and Display the Contents of a Text File\n",
    "Example: Open an existing file “story.txt” and display all the lines."
   ]
  },
  {
   "cell_type": "code",
   "execution_count": 26,
   "id": "a237ca6f",
   "metadata": {},
   "outputs": [
    {
     "name": "stdout",
     "output_type": "stream",
     "text": [
      "\n"
     ]
    }
   ],
   "source": [
    "with open(\"story.txt\", \"r\") as file:\n",
    "    content = file.read()\n",
    "print(content) "
   ]
  },
  {
   "cell_type": "markdown",
   "id": "0695a51a",
   "metadata": {},
   "source": [
    "4.Python Program to Replace a Word in a File and Save to a New File\n",
    "Example: Replace all occurrences of \"is\" with \"was\" in report.txt and save to updated_report.txt."
   ]
  },
  {
   "cell_type": "code",
   "execution_count": 21,
   "id": "2de5713e",
   "metadata": {},
   "outputs": [
    {
     "name": "stdout",
     "output_type": "stream",
     "text": [
      "word replaced successfully and saved to the new file\n"
     ]
    }
   ],
   "source": [
    "input_file=\"report.txt\"\n",
    "output_file=\"updated_report.txt\"\n",
    "old_word=\"is\"\n",
    "new_word=\"was\"\n",
    "with open(input_file,\"r\") as file:\n",
    "    content=file.read()\n",
    "modified_content=content.replace(old_word,new_word)\n",
    "with open(output_file,\"w\") as file:\n",
    "    file.write(modified_content)\n",
    "print(\"word replaced successfully and saved to the new file\")\n"
   ]
  },
  {
   "cell_type": "markdown",
   "id": "01b3a363",
   "metadata": {},
   "source": [
    "5.Python Program to Count the Frequency of Each Word in a File\n",
    "Example: Build a word-frequency dictionary from essay.txt."
   ]
  },
  {
   "cell_type": "code",
   "execution_count": 25,
   "id": "33343f7a",
   "metadata": {},
   "outputs": [
    {
     "name": "stdout",
     "output_type": "stream",
     "text": [
      "life: 1\n",
      "is: 1\n",
      "a: 1\n",
      "journey: 1\n",
      "of: 2\n",
      "continuous: 1\n",
      "learning: 1\n",
      "and: 3\n",
      "discovery,: 1\n",
      "where: 1\n",
      "every: 2\n",
      "moment: 1\n",
      "holds: 1\n",
      "the: 3\n",
      "potential: 1\n",
      "for: 2\n",
      "growth.: 1\n",
      "whether: 1\n",
      "refining: 1\n",
      "technical: 1\n",
      "skills,: 1\n",
      "exploring: 1\n",
      "deep: 1\n",
      "narratives,: 1\n",
      "or: 1\n",
      "solving: 1\n",
      "complex: 1\n",
      "problems,: 1\n",
      "each: 1\n",
      "experience: 1\n",
      "adds: 1\n",
      "to: 2\n",
      "our: 1\n",
      "understanding: 1\n",
      "world: 1\n",
      "ourselves.: 1\n",
      "ability: 1\n",
      "blend: 1\n",
      "logic: 1\n",
      "with: 1\n",
      "creativity: 1\n",
      "shapes: 1\n",
      "how: 1\n",
      "we: 1\n",
      "think,: 1\n",
      "adapt,: 1\n",
      "contribute,: 1\n",
      "making: 1\n",
      "challenge: 1\n",
      "an: 1\n",
      "opportunity: 1\n",
      "meaningful: 1\n",
      "progress.: 1\n"
     ]
    }
   ],
   "source": [
    "file_name = \"essay.txt\"\n",
    "with open(file_name, \"r\") as file:\n",
    "    text = file.read().lower() \n",
    "words = text.split()\n",
    "word_count = {}\n",
    "for word in words:\n",
    "    word_count[word] = word_count.get(word, 0) + 1\n",
    "for word, count in word_count.items():\n",
    "    print(f\"{word}: {count}\")"
   ]
  },
  {
   "cell_type": "markdown",
   "id": "48cb1bdc",
   "metadata": {},
   "source": [
    "6.A teacher wants to keep track of student's  marks. They need a simple program to:\n",
    "Accept names and marks of students.\n",
    "Save them in a file (marks.txt).\n",
    "Read the file, calculate and display the Total number of students and the Average marks."
   ]
  },
  {
   "cell_type": "code",
   "execution_count": 27,
   "id": "9ede463e",
   "metadata": {},
   "outputs": [
    {
     "name": "stdout",
     "output_type": "stream",
     "text": [
      "Total students: 5\n",
      "Average marks: 96.40\n"
     ]
    }
   ],
   "source": [
    "with open(\"marks.txt\", \"w\") as file:\n",
    "    while True:\n",
    "        name = input(\"Enter student name (or 'done' to finish): \")\n",
    "        if name.lower() == \"done\":\n",
    "            break\n",
    "        mark = input(f\"Enter marks for {name}: \")\n",
    "        file.write(f\"{name},{mark}\\n\")\n",
    "with open(\"marks.txt\", \"r\") as file:\n",
    "    lines = file.readlines()\n",
    "total_students = len(lines)\n",
    "total_marks = sum(float(line.split(\",\")[1]) for line in lines)\n",
    "average_marks = total_marks / total_students\n",
    "print(f\"Total students: {total_students}\")\n",
    "print(f\"Average marks: {average_marks:.2f}\")"
   ]
  }
 ],
 "metadata": {
  "kernelspec": {
   "display_name": "Python 3",
   "language": "python",
   "name": "python3"
  },
  "language_info": {
   "codemirror_mode": {
    "name": "ipython",
    "version": 3
   },
   "file_extension": ".py",
   "mimetype": "text/x-python",
   "name": "python",
   "nbconvert_exporter": "python",
   "pygments_lexer": "ipython3",
   "version": "3.13.2"
  }
 },
 "nbformat": 4,
 "nbformat_minor": 5
}
